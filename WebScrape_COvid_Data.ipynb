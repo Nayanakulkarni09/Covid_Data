{
 "cells": [
  {
   "cell_type": "raw",
   "metadata": {},
   "source": [
    "This file will generate two csv file,which will be having covid positive case information.\n",
    "\n",
    "1.first one will have information of states having number of positive cases,number of deaths and number of cured cases\n",
    "2.second will have information of number of cases with in a district.\n",
    "\n",
    "*data used here is fetching from webseit \"https://www.mygov.in/corona-data/covid19-statewise-status\"\n",
    "*To read statewise data we need to use webscrape \n",
    "*To read ditrict data, above website has a pdf link, we need to fetch information from that pdf\n",
    "*I have used \"tabula\" to extract pdf"
   ]
  },
  {
   "cell_type": "code",
   "execution_count": 1,
   "metadata": {},
   "outputs": [
    {
     "name": "stderr",
     "output_type": "stream",
     "text": [
      "C:\\Users\\Client\\Anaconda3\\lib\\site-packages\\statsmodels\\tools\\_testing.py:19: FutureWarning: pandas.util.testing is deprecated. Use the functions in the public API at pandas.testing instead.\n",
      "  import pandas.util.testing as tm\n"
     ]
    }
   ],
   "source": [
    "import numpy as np\n",
    "import pandas as pd\n",
    "import matplotlib.pyplot as plt\n",
    "import seaborn as sns\n",
    "\n",
    "from bs4 import BeautifulSoup\n",
    "import requests"
   ]
  },
  {
   "cell_type": "code",
   "execution_count": 2,
   "metadata": {},
   "outputs": [],
   "source": [
    "#to read html pages from website\n",
    "web_data=requests.get(\"https://www.mygov.in/corona-data/covid19-statewise-status\")\n",
    "soup = BeautifulSoup(web_data.text, \"html.parser\")"
   ]
  },
  {
   "cell_type": "code",
   "execution_count": 3,
   "metadata": {},
   "outputs": [],
   "source": [
    "link_head=soup.find('div',class_=\"field field-name-field-district-reporting field-type-text field-label-above\")\n",
    "district_link=link_head.find('div',class_=\"field-item even\").text"
   ]
  },
  {
   "cell_type": "code",
   "execution_count": 4,
   "metadata": {},
   "outputs": [],
   "source": [
    "content=soup.find_all('div',class_=\"content\")"
   ]
  },
  {
   "cell_type": "code",
   "execution_count": 5,
   "metadata": {},
   "outputs": [],
   "source": [
    "#fetching required information from html tag and adding to csv file\n",
    "filename=\"covid.csv\"\n",
    "f=open(filename, \"w\", encoding=\"utf-8\")\n",
    "f.write(\"{},{},{},{}\\n\".format(\"State_Name\",\"Total_Confirmed\",\"Total_Cured\",\"Total_Death\"))\n",
    "for con in content[3:]:\n",
    "    if con.find('div',class_=\"field field-name-field-select-state field-type-list-text field-label-above\"):\n",
    "        statename_field=con.find('div',class_=\"field field-name-field-select-state field-type-list-text field-label-above\")\n",
    "        if statename_field.find(\"div\", class_= \"field-item even\"):\n",
    "            state_name=statename_field.find('div',class_=\"field-item even\").text\n",
    "    if con.find('div',class_=\"field field-name-field-total-confirmed-indians field-type-number-integer field-label-above\"):\n",
    "        Total_confirmed=con.find('div',class_=\"field field-name-field-total-confirmed-indians field-type-number-integer field-label-above\")\n",
    "        if Total_confirmed.find(\"div\", class_= \"field-item even\"):\n",
    "            Total_confirmed=Total_confirmed.find('div',class_=\"field-item even\").text\n",
    "    if con.find('div',class_=\"field field-name-field-cured field-type-number-integer field-label-above\"):\n",
    "        Total_cured=con.find('div',class_=\"field field-name-field-cured field-type-number-integer field-label-above\")\n",
    "        if Total_cured.find(\"div\", class_= \"field-item even\"):\n",
    "            Total_cured=Total_cured.find('div',class_=\"field-item even\").text\n",
    "    if con.find('div',class_=\"field field-name-field-deaths field-type-number-integer field-label-above\"):\n",
    "        Total_death=con.find('div',class_=\"field field-name-field-deaths field-type-number-integer field-label-above\")\n",
    "        if Total_death.find(\"div\", class_= \"field-item even\"):\n",
    "            Total_death=Total_death.find('div',class_=\"field-item even\").text\n",
    "    csv=(\"{},{},{},{}\\n\".format(state_name,Total_confirmed,Total_cured,Total_death))\n",
    "    f.write(csv)\n",
    "f.close()    "
   ]
  },
  {
   "cell_type": "code",
   "execution_count": 6,
   "metadata": {},
   "outputs": [
    {
     "data": {
      "text/html": [
       "<div>\n",
       "<style scoped>\n",
       "    .dataframe tbody tr th:only-of-type {\n",
       "        vertical-align: middle;\n",
       "    }\n",
       "\n",
       "    .dataframe tbody tr th {\n",
       "        vertical-align: top;\n",
       "    }\n",
       "\n",
       "    .dataframe thead th {\n",
       "        text-align: right;\n",
       "    }\n",
       "</style>\n",
       "<table border=\"1\" class=\"dataframe\">\n",
       "  <thead>\n",
       "    <tr style=\"text-align: right;\">\n",
       "      <th></th>\n",
       "      <th>State_Name</th>\n",
       "      <th>Total_Confirmed</th>\n",
       "      <th>Total_Cured</th>\n",
       "      <th>Total_Death</th>\n",
       "    </tr>\n",
       "  </thead>\n",
       "  <tbody>\n",
       "    <tr>\n",
       "      <th>0</th>\n",
       "      <td>AndhraPradesh</td>\n",
       "      <td>381</td>\n",
       "      <td>11</td>\n",
       "      <td>6</td>\n",
       "    </tr>\n",
       "    <tr>\n",
       "      <th>1</th>\n",
       "      <td>AndamanNicobar</td>\n",
       "      <td>11</td>\n",
       "      <td>10</td>\n",
       "      <td>0</td>\n",
       "    </tr>\n",
       "    <tr>\n",
       "      <th>2</th>\n",
       "      <td>Bihar</td>\n",
       "      <td>64</td>\n",
       "      <td>19</td>\n",
       "      <td>1</td>\n",
       "    </tr>\n",
       "    <tr>\n",
       "      <th>3</th>\n",
       "      <td>Chandigarh</td>\n",
       "      <td>19</td>\n",
       "      <td>7</td>\n",
       "      <td>0</td>\n",
       "    </tr>\n",
       "    <tr>\n",
       "      <th>4</th>\n",
       "      <td>Chhattisgarh</td>\n",
       "      <td>25</td>\n",
       "      <td>10</td>\n",
       "      <td>0</td>\n",
       "    </tr>\n",
       "  </tbody>\n",
       "</table>\n",
       "</div>"
      ],
      "text/plain": [
       "       State_Name  Total_Confirmed  Total_Cured  Total_Death\n",
       "0   AndhraPradesh              381           11            6\n",
       "1  AndamanNicobar               11           10            0\n",
       "2           Bihar               64           19            1\n",
       "3      Chandigarh               19            7            0\n",
       "4    Chhattisgarh               25           10            0"
      ]
     },
     "execution_count": 6,
     "metadata": {},
     "output_type": "execute_result"
    }
   ],
   "source": [
    "data=pd.read_csv(\"covid.csv\")\n",
    "data.head()"
   ]
  },
  {
   "cell_type": "code",
   "execution_count": 7,
   "metadata": {},
   "outputs": [],
   "source": [
    "#to read pdf data to get district information\n",
    "import tabula\n",
    "district_data=tabula.read_pdf(district_link,pages='all')"
   ]
  },
  {
   "cell_type": "code",
   "execution_count": 8,
   "metadata": {},
   "outputs": [],
   "source": [
    "district_data.columns=['State','No_of_Dist_Affected','District','Positive_cases']\n",
    "district_data=district_data[1:]"
   ]
  },
  {
   "cell_type": "code",
   "execution_count": 9,
   "metadata": {},
   "outputs": [
    {
     "data": {
      "text/html": [
       "<div>\n",
       "<style scoped>\n",
       "    .dataframe tbody tr th:only-of-type {\n",
       "        vertical-align: middle;\n",
       "    }\n",
       "\n",
       "    .dataframe tbody tr th {\n",
       "        vertical-align: top;\n",
       "    }\n",
       "\n",
       "    .dataframe thead th {\n",
       "        text-align: right;\n",
       "    }\n",
       "</style>\n",
       "<table border=\"1\" class=\"dataframe\">\n",
       "  <thead>\n",
       "    <tr style=\"text-align: right;\">\n",
       "      <th></th>\n",
       "      <th>State</th>\n",
       "      <th>No_of_Dist_Affected</th>\n",
       "      <th>District</th>\n",
       "      <th>Positive_cases</th>\n",
       "    </tr>\n",
       "  </thead>\n",
       "  <tbody>\n",
       "    <tr>\n",
       "      <th>1</th>\n",
       "      <td>ANDAMAN AND NICOBAR ISLAND</td>\n",
       "      <td>1</td>\n",
       "      <td>ANDAMAN</td>\n",
       "      <td>10</td>\n",
       "    </tr>\n",
       "    <tr>\n",
       "      <th>2</th>\n",
       "      <td>ANDHRA PRADESH</td>\n",
       "      <td>11*</td>\n",
       "      <td>ANANTAPUR</td>\n",
       "      <td>2</td>\n",
       "    </tr>\n",
       "    <tr>\n",
       "      <th>3</th>\n",
       "      <td>NaN</td>\n",
       "      <td>NaN</td>\n",
       "      <td>CHITTOOR</td>\n",
       "      <td>10</td>\n",
       "    </tr>\n",
       "    <tr>\n",
       "      <th>4</th>\n",
       "      <td>NaN</td>\n",
       "      <td>NaN</td>\n",
       "      <td>EAST GODAVARI</td>\n",
       "      <td>11</td>\n",
       "    </tr>\n",
       "    <tr>\n",
       "      <th>5</th>\n",
       "      <td>NaN</td>\n",
       "      <td>NaN</td>\n",
       "      <td>GUNTUR</td>\n",
       "      <td>30</td>\n",
       "    </tr>\n",
       "  </tbody>\n",
       "</table>\n",
       "</div>"
      ],
      "text/plain": [
       "                        State No_of_Dist_Affected       District  \\\n",
       "1  ANDAMAN AND NICOBAR ISLAND                   1        ANDAMAN   \n",
       "2              ANDHRA PRADESH                 11*      ANANTAPUR   \n",
       "3                         NaN                 NaN       CHITTOOR   \n",
       "4                         NaN                 NaN  EAST GODAVARI   \n",
       "5                         NaN                 NaN         GUNTUR   \n",
       "\n",
       "  Positive_cases  \n",
       "1             10  \n",
       "2              2  \n",
       "3             10  \n",
       "4             11  \n",
       "5             30  "
      ]
     },
     "execution_count": 9,
     "metadata": {},
     "output_type": "execute_result"
    }
   ],
   "source": [
    "district_data.head()"
   ]
  },
  {
   "cell_type": "code",
   "execution_count": 10,
   "metadata": {},
   "outputs": [],
   "source": [
    "#we will drop \"No_of_Dist_Affected\",since we can get this value by groupby fumction if required\n",
    "district_data.drop('No_of_Dist_Affected',axis=1,inplace=True)"
   ]
  },
  {
   "cell_type": "code",
   "execution_count": 11,
   "metadata": {},
   "outputs": [
    {
     "data": {
      "text/plain": [
       "(241, 3)"
      ]
     },
     "execution_count": 11,
     "metadata": {},
     "output_type": "execute_result"
    }
   ],
   "source": [
    "#we are dropping rows having \"District\" or \"Positive_cases\" as nan , since we will not get any information from those rows\n",
    "district_data.dropna(subset=['District','Positive_cases'],axis=0,inplace=True)\n",
    "district_data.shape"
   ]
  },
  {
   "cell_type": "code",
   "execution_count": 12,
   "metadata": {},
   "outputs": [],
   "source": [
    "#fill the missing state value will forword fill, since pdf has one to many, \n",
    "#state to district rows these missing value has generated in data frame.\n",
    "district_data['State']=district_data['State'].fillna(method='ffill')"
   ]
  },
  {
   "cell_type": "code",
   "execution_count": 13,
   "metadata": {},
   "outputs": [
    {
     "data": {
      "text/html": [
       "<div>\n",
       "<style scoped>\n",
       "    .dataframe tbody tr th:only-of-type {\n",
       "        vertical-align: middle;\n",
       "    }\n",
       "\n",
       "    .dataframe tbody tr th {\n",
       "        vertical-align: top;\n",
       "    }\n",
       "\n",
       "    .dataframe thead th {\n",
       "        text-align: right;\n",
       "    }\n",
       "</style>\n",
       "<table border=\"1\" class=\"dataframe\">\n",
       "  <thead>\n",
       "    <tr style=\"text-align: right;\">\n",
       "      <th></th>\n",
       "      <th>State</th>\n",
       "      <th>District</th>\n",
       "      <th>Positive_cases</th>\n",
       "    </tr>\n",
       "  </thead>\n",
       "  <tbody>\n",
       "    <tr>\n",
       "      <th>0</th>\n",
       "      <td>ANDAMAN AND NICOBAR ISLAND</td>\n",
       "      <td>ANDAMAN</td>\n",
       "      <td>10</td>\n",
       "    </tr>\n",
       "    <tr>\n",
       "      <th>1</th>\n",
       "      <td>ANDHRA PRADESH</td>\n",
       "      <td>ANANTAPUR</td>\n",
       "      <td>2</td>\n",
       "    </tr>\n",
       "    <tr>\n",
       "      <th>2</th>\n",
       "      <td>ANDHRA PRADESH</td>\n",
       "      <td>CHITTOOR</td>\n",
       "      <td>10</td>\n",
       "    </tr>\n",
       "    <tr>\n",
       "      <th>3</th>\n",
       "      <td>ANDHRA PRADESH</td>\n",
       "      <td>EAST GODAVARI</td>\n",
       "      <td>11</td>\n",
       "    </tr>\n",
       "    <tr>\n",
       "      <th>4</th>\n",
       "      <td>ANDHRA PRADESH</td>\n",
       "      <td>GUNTUR</td>\n",
       "      <td>30</td>\n",
       "    </tr>\n",
       "  </tbody>\n",
       "</table>\n",
       "</div>"
      ],
      "text/plain": [
       "                        State       District Positive_cases\n",
       "0  ANDAMAN AND NICOBAR ISLAND        ANDAMAN             10\n",
       "1              ANDHRA PRADESH      ANANTAPUR              2\n",
       "2              ANDHRA PRADESH       CHITTOOR             10\n",
       "3              ANDHRA PRADESH  EAST GODAVARI             11\n",
       "4              ANDHRA PRADESH         GUNTUR             30"
      ]
     },
     "execution_count": 13,
     "metadata": {},
     "output_type": "execute_result"
    }
   ],
   "source": [
    "district_data=district_data.reset_index()\n",
    "district_data.drop('index',axis=1,inplace=True)\n",
    "district_data.head()"
   ]
  },
  {
   "cell_type": "code",
   "execution_count": 14,
   "metadata": {},
   "outputs": [],
   "source": [
    "district_data.to_csv(\"district_data.csv\")"
   ]
  },
  {
   "cell_type": "code",
   "execution_count": null,
   "metadata": {},
   "outputs": [],
   "source": []
  }
 ],
 "metadata": {
  "kernelspec": {
   "display_name": "Python 3",
   "language": "python",
   "name": "python3"
  },
  "language_info": {
   "codemirror_mode": {
    "name": "ipython",
    "version": 3
   },
   "file_extension": ".py",
   "mimetype": "text/x-python",
   "name": "python",
   "nbconvert_exporter": "python",
   "pygments_lexer": "ipython3",
   "version": "3.7.3"
  }
 },
 "nbformat": 4,
 "nbformat_minor": 2
}
